{
 "cells": [
  {
   "cell_type": "code",
   "execution_count": 1,
   "metadata": {},
   "outputs": [
    {
     "ename": "ModuleNotFoundError",
     "evalue": "No module named 'plotly'",
     "output_type": "error",
     "traceback": [
      "\u001b[1;31m---------------------------------------------------------------------------\u001b[0m",
      "\u001b[1;31mModuleNotFoundError\u001b[0m                       Traceback (most recent call last)",
      "\u001b[1;32m<ipython-input-1-1233c6a8dc90>\u001b[0m in \u001b[0;36m<module>\u001b[1;34m\u001b[0m\n\u001b[0;32m     10\u001b[0m \u001b[1;32mfrom\u001b[0m \u001b[0mstatsmodels\u001b[0m\u001b[1;33m.\u001b[0m\u001b[0mtsa\u001b[0m\u001b[1;33m.\u001b[0m\u001b[0marima\u001b[0m\u001b[1;33m.\u001b[0m\u001b[0mmodel\u001b[0m \u001b[1;32mimport\u001b[0m \u001b[0mARIMA\u001b[0m\u001b[1;33m\u001b[0m\u001b[1;33m\u001b[0m\u001b[0m\n\u001b[0;32m     11\u001b[0m \u001b[1;32mfrom\u001b[0m \u001b[0msklearn\u001b[0m\u001b[1;33m.\u001b[0m\u001b[0mmetrics\u001b[0m \u001b[1;32mimport\u001b[0m \u001b[0mmean_squared_error\u001b[0m\u001b[1;33m\u001b[0m\u001b[1;33m\u001b[0m\u001b[0m\n\u001b[1;32m---> 12\u001b[1;33m \u001b[1;32mimport\u001b[0m \u001b[0mplotly\u001b[0m\u001b[1;33m.\u001b[0m\u001b[0mgraph_objects\u001b[0m \u001b[1;32mas\u001b[0m \u001b[0mgo\u001b[0m\u001b[1;33m\u001b[0m\u001b[1;33m\u001b[0m\u001b[0m\n\u001b[0m\u001b[0;32m     13\u001b[0m \u001b[1;32mfrom\u001b[0m \u001b[0mIPython\u001b[0m\u001b[1;33m.\u001b[0m\u001b[0mcore\u001b[0m\u001b[1;33m.\u001b[0m\u001b[0mdebugger\u001b[0m \u001b[1;32mimport\u001b[0m \u001b[0mset_trace\u001b[0m\u001b[1;33m\u001b[0m\u001b[1;33m\u001b[0m\u001b[0m\n\u001b[0;32m     14\u001b[0m \u001b[0mplt\u001b[0m\u001b[1;33m.\u001b[0m\u001b[0mstyle\u001b[0m\u001b[1;33m.\u001b[0m\u001b[0muse\u001b[0m\u001b[1;33m(\u001b[0m\u001b[0mstyle\u001b[0m\u001b[1;33m=\u001b[0m\u001b[1;34m\"seaborn\"\u001b[0m\u001b[1;33m)\u001b[0m\u001b[1;33m\u001b[0m\u001b[1;33m\u001b[0m\u001b[0m\n",
      "\u001b[1;31mModuleNotFoundError\u001b[0m: No module named 'plotly'"
     ]
    }
   ],
   "source": [
    "import os\n",
    "import warnings \n",
    "warnings.filterwarnings('ignore')\n",
    "import numpy as np \n",
    "import statsmodels.api\n",
    "import pandas as pd \n",
    "import matplotlib.pyplot as plt\n",
    "from pandas.plotting import lag_plot\n",
    "from pandas import datetime\n",
    "from statsmodels.tsa.arima.model import ARIMA\n",
    "from sklearn.metrics import mean_squared_error\n",
    "import plotly.graph_objects as go\n",
    "from IPython.core.debugger import set_trace\n",
    "plt.style.use(style=\"seaborn\")\n",
    "%load_ext nb_black\n"
   ]
  },
  {
   "cell_type": "code",
   "execution_count": null,
   "metadata": {},
   "outputs": [],
   "source": [
    "from yahoo_fin import stock_info\n",
    "from tkinter import *"
   ]
  },
  {
   "cell_type": "code",
   "execution_count": null,
   "metadata": {},
   "outputs": [],
   "source": [
    "def stock_price():\n",
    "\n",
    "    price = stock_info.get_live_price(e1.get())\n",
    "    Current_stock.set(price)\n",
    "\n",
    "\n",
    "master = Tk()\n",
    "Current_stock = StringVar()\n",
    "\n",
    "Label(master, text=\"Company Symbol : \").grid(row=0, sticky=W)\n",
    "Label(master, text=\"Stock Result:\").grid(row=3, sticky=W)\n",
    "\n",
    "result2 = Label(master, text=\"\", textvariable=Current_stock,\n",
    "                ).grid(row=3, column=1, sticky=W)\n",
    "\n",
    "e1 = Entry(master)\n",
    "e1.grid(row=0, column=1)\n",
    "\n",
    "b = Button(master, text=\"Show\", command=stock_price)\n",
    "b.grid(row=0, column=2, columnspan=2, rowspan=2, padx=5, pady=5)\n",
    "\n",
    "mainloop()"
   ]
  },
  {
   "cell_type": "code",
   "execution_count": null,
   "metadata": {},
   "outputs": [],
   "source": [
    "df = pd.read_csv(\"TSLA.csv\")\n",
    "df.head(5)\n",
    "n = len(df)\n",
    "print(n)"
   ]
  },
  {
   "cell_type": "code",
   "execution_count": null,
   "metadata": {},
   "outputs": [],
   "source": [
    "plt.figure(figsize=[10,10])\n",
    "lag_plot(df['Open'], lag=2)\n",
    "plt.title('TESLA Stock - Autocorrelation plot with lag = 2')\n",
    "xpoints = ypoints = plt.xlim()\n",
    "plt.plot(xpoints, ypoints, linestyle='--', color='k', lw=3, scalex=False, scaley=False)\n",
    "plt.show()"
   ]
  },
  {
   "cell_type": "code",
   "execution_count": null,
   "metadata": {},
   "outputs": [],
   "source": [
    "fig = go.Figure(data=[go.Candlestick(x=df['Date'],\n",
    "                open=df['Open'],\n",
    "                high=df['High'],\n",
    "                low=df['Low'],\n",
    "                close=df['Close'])])\n",
    "\n",
    "fig.show()"
   ]
  },
  {
   "cell_type": "code",
   "execution_count": null,
   "metadata": {},
   "outputs": [],
   "source": [
    "#checking the stationarity of time series\n",
    "from statsmodels.tsa.stattools import adfuller\n",
    "result = adfuller(df.Close.dropna())\n",
    "print(f\"ADF Statistic:{result[0]}\")\n",
    "print(f\"P-Value:{result[1]}\")\n",
    "#As p is is greater than alpha = 0.05 we say that our hypothesis that the time series is non stationary holds"
   ]
  },
  {
   "cell_type": "markdown",
   "metadata": {},
   "source": [
    "Auto Correlation Function"
   ]
  },
  {
   "cell_type": "code",
   "execution_count": null,
   "metadata": {},
   "outputs": [],
   "source": [
    "from pmdarima.arima.utils import ndiffs\n",
    "ndiffs(df.Close, test='adf') #number of differencing to make this series stationary"
   ]
  },
  {
   "cell_type": "markdown",
   "metadata": {},
   "source": [
    "P \n",
    "P is the order of the Auto Regressive (AR) term. It refers to the number of lags to be used as predictors.\n",
    "\n",
    "We can find out the required number of AR terms by inspecting the Partial Autocorrelation (PACF) Plot.\n",
    "\n",
    "The Partial Autocorrelation represents the correlation between series and its lags.\n"
   ]
  },
  {
   "cell_type": "code",
   "execution_count": null,
   "metadata": {},
   "outputs": [],
   "source": [
    "from statsmodels.graphics.tsaplots import plot_pacf\n",
    "diff = df.Close.diff().dropna()# ndiffs is 1\n",
    "fig, (ax1,ax2) = plt.subplots(1,2,figsize=(16,4))\n",
    "\n",
    "ax1.plot(diff1)\n",
    "ax1.set_title(\"Difference Once\") #makes signal stationary\n",
    "ax2.set_ylim(0,1)\n",
    "plot_pacf(diff,ax=ax2);"
   ]
  },
  {
   "cell_type": "markdown",
   "metadata": {},
   "source": [
    "\n",
    "P is choosen to be 3 as its well above significance line"
   ]
  },
  {
   "cell_type": "markdown",
   "metadata": {},
   "source": [
    "Q is the order of Moving Average term. It refers to the number of lagged forecast errors that should go into the ARIMA Model. We can look at the ACF Plot of MA terms."
   ]
  },
  {
   "cell_type": "code",
   "execution_count": null,
   "metadata": {},
   "outputs": [],
   "source": [
    "from statsmodels.graphics.tsaplots import plot_pacf\n",
    "diff = df.Close.diff().dropna()# ndiffs is 1\n",
    "fig, (ax1,ax2) = plt.subplots(1,2,figsize=(16,4))\n",
    "\n",
    "ax1.plot(diff1)\n",
    "ax1.set_title(\"Difference Once\") #makes signal stationary\n",
    "ax2.set_ylim(0,1)\n",
    "plot_pacf(diff,ax=ax2);"
   ]
  },
  {
   "cell_type": "markdown",
   "metadata": {},
   "source": [
    "Q the error term is choosen to be 4"
   ]
  },
  {
   "cell_type": "markdown",
   "metadata": {},
   "source": [
    "# Fitting ARIMA Model"
   ]
  },
  {
   "cell_type": "code",
   "execution_count": null,
   "metadata": {},
   "outputs": [],
   "source": [
    "model = ARIMA(df.Close, order = (24,1,4))\n",
    "result = model.fit()"
   ]
  },
  {
   "cell_type": "code",
   "execution_count": null,
   "metadata": {},
   "outputs": [],
   "source": [
    "result.summary()"
   ]
  },
  {
   "cell_type": "code",
   "execution_count": null,
   "metadata": {},
   "outputs": [],
   "source": [
    "train_data, test_data = df[0:int(len(df)*0.7)], df[int(len(df)*0.7):]\n",
    "training_data = train_data['Close'].values\n",
    "test_data = test_data['Close'].values\n",
    "history = [x for x in training_data]\n",
    "model_predictions = []\n",
    "N_test_observations = len(test_data)\n",
    "for time_point in range(N_test_observations):\n",
    "    model = ARIMA(history, order=(4,1,0))\n",
    "    model_fit = model.fit()\n",
    "    output = model_fit.forecast()\n",
    "    yhat = output[0]\n",
    "    model_predictions.append(yhat)\n",
    "    true_test_value = test_data[time_point]\n",
    "    history.append(true_test_value)\n"
   ]
  },
  {
   "cell_type": "code",
   "execution_count": null,
   "metadata": {},
   "outputs": [],
   "source": [
    "MSE_error = mean_squared_error(test_data, model_predictions)\n",
    "print('Testing Mean Squared Error is {}'.format(MSE_error))"
   ]
  },
  {
   "cell_type": "code",
   "execution_count": null,
   "metadata": {},
   "outputs": [],
   "source": [
    "test_set_range = df[int(len(df)*0.7):].index\n",
    "plt.figure(figsize=[15,8])\n",
    "plt.plot(test_set_range, model_predictions, color='green', marker='o', linestyle='dashed',label='Predicted Price')\n",
    "plt.plot(test_set_range, test_data, color='red', label='Actual Price')\n",
    "plt.title('TESLA Prices Prediction')\n",
    "plt.xlabel('Date')\n",
    "plt.ylabel('Prices')\n",
    "plt.xticks(np.arange(int(n*0.7),n,100), df.Date[int(n*0.7):n:100])\n",
    "plt.legend()\n",
    "plt.show()"
   ]
  },
  {
   "cell_type": "code",
   "execution_count": null,
   "metadata": {},
   "outputs": [],
   "source": []
  }
 ],
 "metadata": {
  "kernelspec": {
   "display_name": "Python 3",
   "language": "python",
   "name": "python3"
  },
  "language_info": {
   "codemirror_mode": {
    "name": "ipython",
    "version": 3
   },
   "file_extension": ".py",
   "mimetype": "text/x-python",
   "name": "python",
   "nbconvert_exporter": "python",
   "pygments_lexer": "ipython3",
   "version": "3.8.8"
  }
 },
 "nbformat": 4,
 "nbformat_minor": 2
}
