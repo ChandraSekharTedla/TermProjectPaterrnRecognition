{
 "cells": [
  {
   "cell_type": "markdown",
   "metadata": {},
   "source": [
    "Implementation and comparision of LSTM(Long Short Term Memory) and ARIMA(Autoregressive integrated moving average) Neural Networks for the application of Stock Price Prediction."
   ]
  },
  {
   "cell_type": "code",
   "execution_count": 4,
   "metadata": {},
   "outputs": [],
   "source": [
    "import numpy as np\n",
    "import pandas as pd\n",
    "import matplotlib.pyplot as plt"
   ]
  },
  {
   "cell_type": "markdown",
   "metadata": {},
   "source": [
    "We shall follow the following steps to achieve the goal:\n",
    "1. Fetch and store the data(Stock Prices for the past few time intervals).\n",
    "2. Split the data for Training and Testing.\n",
    "3. Processing of data to meet the input criterion of the Neural Network Algorithms.\n",
    "4. Pass the data through LSTM and ARIMA and train the networks.\n",
    "5. Start Predicting the upcoming Stock Prices for the next few time intervals using the 2 models.\n",
    "6. Compare the results of the 2 models and conclude."
   ]
  },
  {
   "cell_type": "code",
   "execution_count": 5,
   "metadata": {},
   "outputs": [],
   "source": [
    "## Fetch and Store the data\n",
    "#\n",
    "# Function Description  : Fetches and Stores the required data into an array\n",
    "#\n",
    "# Output Parameters     : data(The Data used for training and prediction)       : data\n",
    "##\n",
    "def fetch_store ():\n",
    "    length_data = 10000\n",
    "    data = range(1, length_data)\n",
    "    return data\n",
    "\n",
    "\n",
    "## Split Data Function\n",
    "#\n",
    "# Function Description  : Splits data into 2 sets : Train Data, Test Data\n",
    "#\n",
    "# Input Parameters      : 1. data (The data that is to be splitted)                             : data\n",
    "#                         2. percentage_train_data (The percentage of data used for training)   : percentage_train_data\n",
    "#\n",
    "# Output Parameters     : 1. Train Data (1st part of Data)                                      : train_data\n",
    "#                         2. Test Data (2nd part of Data)                                       : test_data\n",
    "##\n",
    "def split_data (data, percentage_train_data):\n",
    "    # Gets the length of the data\n",
    "    data_length = len(data)\n",
    "\n",
    "    # Gets the length of the Training data\n",
    "    train_data_length = int (percentage_train_data*data_length)\n",
    "\n",
    "    # Splits the data into 2 sets : Train data and Test data\n",
    "    train_data = data[:train_data_length]\n",
    "    test_data = data[train_data_length:]\n",
    "\n",
    "    return train_data, test_data\n",
    "\n",
    "\n",
    "## Preprocessing of Data\n",
    "#\n",
    "# Function Description  : Precprocesses the train and test data as per the crierion of the Neural Networks.\n",
    "#\n",
    "# Criterion             : Scale data to range [0, 1]\n",
    "#\n",
    "# Input Parameters      : 1. Train Data                 : train_data\n",
    "#                         2. Test Data                  : test_data\n",
    "#\n",
    "# Output Parameters     : 1. Processed Train Data       : processed_train_data\n",
    "#                         2. Processed Test Data        : processed_test_data\n",
    "#                         3. Scaling Factor used        : scaling_factor\n",
    "##\n",
    "def preprocessing_data (train_data, test_data):\n",
    "    # Finding maximum among the Train and Test Data\n",
    "    max_train_data = max(train_data)\n",
    "    max_test_data = max(test_data)\n",
    "\n",
    "    scaling_factor = max(max_train_data, max_test_data)\n",
    "    \n",
    "\n",
    "    # Scaling the data to the range [0, 1]\n",
    "    processed_train_data = train_data/scaling_factor\n",
    "    processed_test_data = test_data/scaling_factor\n",
    "\n",
    "    return processed_train_data, processed_test_data, scaling_factor\n",
    "\n"
   ]
  }
 ],
 "metadata": {
  "interpreter": {
   "hash": "780399f4ca915f8b26ba7a4bf43e2f51e62e42691cb13e55fab12f254f8cf844"
  },
  "kernelspec": {
   "display_name": "Python 3.8.8 64-bit ('base': conda)",
   "language": "python",
   "name": "python3"
  },
  "language_info": {
   "codemirror_mode": {
    "name": "ipython",
    "version": 3
   },
   "file_extension": ".py",
   "mimetype": "text/x-python",
   "name": "python",
   "nbconvert_exporter": "python",
   "pygments_lexer": "ipython3",
   "version": "3.8.8"
  },
  "orig_nbformat": 4
 },
 "nbformat": 4,
 "nbformat_minor": 2
}
