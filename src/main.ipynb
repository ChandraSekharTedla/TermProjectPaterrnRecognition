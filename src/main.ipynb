{
 "cells": [
  {
   "cell_type": "markdown",
   "metadata": {},
   "source": [
    "Implementation and comparision of LSTM(Long Short Term Memory) and ARIMA(Autoregressive integrated moving average) Neural Networks for the application of Stock Price Prediction."
   ]
  },
  {
   "cell_type": "code",
   "execution_count": 1,
   "metadata": {},
   "outputs": [],
   "source": [
    "import numpy as np\n",
    "import pandas as pd\n",
    "import matplotlib.pyplot as plt\n",
    "import tensorflow as tf\n",
    "from tensorflow.keras.models import Sequential\n",
    "from tensorflow.keras.layers import Dense\n",
    "from tensorflow.keras.layers import LSTM\n",
    "\n",
    "from example_functions import fetch_store, preprocessing_data, generate_sequence"
   ]
  },
  {
   "cell_type": "markdown",
   "metadata": {},
   "source": [
    "We shall follow the following steps to achieve the goal:\n",
    "1. Fetch and store the data(Stock Prices for the past few time intervals).\n",
    "2. Split the data for Training and Testing.\n",
    "3. Processing of data to meet the input criterion of the Neural Network Algorithms.\n",
    "4. Pass the data through LSTM and ARIMA and train the networks.\n",
    "5. Start Predicting the upcoming Stock Prices for the next few time intervals using the 2 models.\n",
    "6. Compare the results of the 2 models and conclude.\n",
    "\n",
    "\n",
    "The following code has all the required functions used by the main function"
   ]
  },
  {
   "cell_type": "code",
   "execution_count": 2,
   "metadata": {},
   "outputs": [
    {
     "name": "stdout",
     "output_type": "stream",
     "text": [
      "(6399, 100)\n",
      "(6399, 100, 1)\n",
      "(3399, 100)\n",
      "(3399, 100, 1)\n",
      "Model: \"sequential\"\n",
      "_________________________________________________________________\n",
      " Layer (type)                Output Shape              Param #   \n",
      "=================================================================\n",
      " lstm (LSTM)                 (None, 100, 50)           10400     \n",
      "                                                                 \n",
      " lstm_1 (LSTM)               (None, 100, 50)           20200     \n",
      "                                                                 \n",
      " lstm_2 (LSTM)               (None, 50)                20200     \n",
      "                                                                 \n",
      " dense (Dense)               (None, 1)                 51        \n",
      "                                                                 \n",
      "=================================================================\n",
      "Total params: 50,851\n",
      "Trainable params: 50,851\n",
      "Non-trainable params: 0\n",
      "_________________________________________________________________\n",
      "100/100 [==============================] - 35s 266ms/step - loss: 0.0069 - val_loss: 0.0013\n"
     ]
    },
    {
     "data": {
      "image/png": "[encoded data removed]",
      "text/plain": [
       "<Figure size 432x288 with 1 Axes>"
      ]
     },
     "metadata": {
      "needs_background": "light"
     },
     "output_type": "display_data"
    }
   ],
   "source": [
    "## Configuration Parameters\n",
    "\n",
    "# Used to divide the data into training set and test set i.e.,\n",
    "# Percentage of Training data in the whole set of data\n",
    "percentage_train_data = 0.65\n",
    "\n",
    "# Dependence Interval specifies the number of previous intervals used\n",
    "# to predict the next interva's output\n",
    "dependence_interval = 100\n",
    "\n",
    "\n",
    "## Step - 1\n",
    "# Fetches and Stores data\n",
    "%run -i additional_functions.py\n",
    "data = fetch_store ()\n",
    "\n",
    "\n",
    "## Step - 2\n",
    "# Preprocesses the data for LSTM and Splits the data among training and testing \n",
    "%run -i additional_functions.py\n",
    "scaler, processed_data, processed_train_data, processed_test_data = preprocessing_data (data, percentage_train_data)\n",
    "\n",
    "\n",
    "## Step - 3\n",
    "# Creating Training and Test Sequence and the corresponding otput sequence from the data\n",
    "%run -i additional_functions.py\n",
    "train_sequence, expected_train_output_seq = generate_sequence(processed_train_data, dependence_interval)\n",
    "test_sequence, expected_test_output_seq = generate_sequence(processed_test_data, dependence_interval)\n",
    "\n",
    "\n",
    "## Step - 4\n",
    "# Call LSTM\n",
    "model=Sequential()\n",
    "model.add(LSTM(50,return_sequences=True,input_shape=(train_sequence.shape[1],train_sequence.shape[2])))\n",
    "model.add(LSTM(50,return_sequences=True))\n",
    "model.add(LSTM(50))\n",
    "model.add(Dense(1))\n",
    "model.compile(loss='mean_squared_error',optimizer='adam')\n",
    "\n",
    "model.summary()\n",
    "\n",
    "model.fit(train_sequence,expected_train_output_seq,validation_data=(test_sequence,expected_test_output_seq),epochs=1,batch_size=64,verbose=1)\n",
    "\n",
    "### Lets Do the prediction and check performance metrics\n",
    "train_predict = model.predict(train_sequence)\n",
    "test_predict = model.predict(test_sequence)\n",
    "\n",
    "##Transformback to original form\n",
    "train_predict=scaler.inverse_transform(train_predict)\n",
    "test_predict=scaler.inverse_transform(test_predict)\n",
    "\n",
    "### Calculate RMSE performance metrics\n",
    "import math\n",
    "from sklearn.metrics import mean_squared_error\n",
    "math.sqrt(mean_squared_error(expected_train_output_seq, train_predict))\n",
    "\n",
    "### Test Data RMSE\n",
    "math.sqrt(mean_squared_error(expected_test_output_seq,test_predict))\n",
    "\n",
    "### Plotting \n",
    "# shift train predictions for plotting\n",
    "trainPredictPlot = np.empty_like(processed_data)\n",
    "trainPredictPlot[:, :] = np.nan\n",
    "trainPredictPlot[dependence_interval:len(train_predict)+dependence_interval, :] = train_predict\n",
    "# shift test predictions for plotting\n",
    "testPredictPlot = np.empty_like(processed_data)\n",
    "testPredictPlot[:, :] = np.nan\n",
    "testPredictPlot[len(train_predict)+(dependence_interval*2)+1:len(processed_data)-1, :] = test_predict\n",
    "# plot baseline and predictions\n",
    "plt.plot(scaler.inverse_transform(processed_data))\n",
    "plt.plot(trainPredictPlot)\n",
    "plt.plot(testPredictPlot)\n",
    "plt.show()"
   ]
  },
  {
   "cell_type": "code",
   "execution_count": 3,
   "metadata": {},
   "outputs": [
    {
     "name": "stdout",
     "output_type": "stream",
     "text": [
      "101\n"
     ]
    }
   ],
   "source": [
    "# prediction_input = processed_data[-1*dependence_interval:]\n",
    "\n",
    "# prediction_intervals = 10\n",
    "# for iter in range(prediction_intervals):\n",
    "#     print(iter)\n",
    "#     lstm_input_data = np.array(prediction_input[-1*dependence_interval:])\n",
    "#     lstm_input_data = lstm_input_data.reshape(1,-1)\n",
    "#     lstm_input_data = lstm_input_data.reshape((1, dependence_interval, 1))\n",
    "    \n",
    "#     next_iterval_prediction = scaler.inverse_transform(model.predict(lstm_input_data, verbose=0))\n",
    "#     print(next_iterval_prediction)\n",
    "#     prediction_input.extend(next_iterval_prediction.tolist())\n",
    "    \n",
    "\n",
    "# print(prediction_input)\n",
    "temp_input=list(processed_data[-1*dependence_interval-1:])\n",
    "print(len(temp_input))\n",
    "lst_output=[]\n",
    "n_steps=100\n",
    "i=0\n",
    "while(i<30):\n",
    "    \n",
    "    if(len(temp_input)>100):\n",
    "#         print(i)\n",
    "        x_input=np.array(temp_input[1:])\n",
    "#         print(\"{} day input {}\".format(i,x_input))\n",
    "        x_input=x_input.reshape(1,-1)\n",
    "        x_input = x_input.reshape((1, n_steps, 1))\n",
    "        yhat = model.predict(x_input, verbose=0)\n",
    "#         print(\"{} day output {}\".format(i,yhat))\n",
    "        temp_input.append(yhat[0])\n",
    "        temp_input=temp_input[1:]\n",
    "        lst_output.extend(yhat.tolist())\n",
    "        i=i+1\n",
    "    else:\n",
    "        x_input = x_input.reshape((1, n_steps,1))\n",
    "        yhat = model.predict(x_input, verbose=0)\n",
    "        print(yhat[0])\n",
    "        temp_input.extend(yhat[0].tolist())\n",
    "        print(len(temp_input))\n",
    "        lst_output.extend(yhat.tolist())\n",
    "        i=i+1\n",
    "        \n",
    "        "
   ]
  },
  {
   "cell_type": "code",
   "execution_count": null,
   "metadata": {},
   "outputs": [],
   "source": []
  },
  {
   "cell_type": "code",
   "execution_count": null,
   "metadata": {},
   "outputs": [],
   "source": []
  }
 ],
 "metadata": {
  "interpreter": {
   "hash": "780399f4ca915f8b26ba7a4bf43e2f51e62e42691cb13e55fab12f254f8cf844"
  },
  "kernelspec": {
   "display_name": "Python 3",
   "language": "python",
   "name": "python3"
  },
  "language_info": {
   "codemirror_mode": {
    "name": "ipython",
    "version": 3
   },
   "file_extension": ".py",
   "mimetype": "text/x-python",
   "name": "python",
   "nbconvert_exporter": "python",
   "pygments_lexer": "ipython3",
   "version": "3.8.8"
  }
 },
 "nbformat": 4,
 "nbformat_minor": 2
}
